{
 "cells": [
  {
   "cell_type": "code",
   "execution_count": 1,
   "metadata": {
    "collapsed": true
   },
   "outputs": [],
   "source": [
    "# Python - Parameters passes by reference or value?\n",
    "\n",
    "## Lets define some helper functions."
   ]
  },
  {
   "cell_type": "code",
   "execution_count": 2,
   "outputs": [],
   "source": [
    "def print_var_info( var) -> None:\n",
    "    \"\"\"Helper to print the variable object reference and value\"\"\"\n",
    "    print(f\"Variable object reference: {id(var)}\")\n",
    "    print(f\"Variable value           : {var}\\n\")\n",
    "\n",
    "\n",
    "def change_something(inputval) -> None:\n",
    "    \"\"\"Can we mutate inputval without passing it back via return?\"\"\"\n",
    "    print(\"Info before value were 'mutated'\")\n",
    "    print_var_info(inputval)\n",
    "    inputval += 1\n",
    "\n",
    "    print(\"Info after value were 'mutated'\")\n",
    "    print_var_info(inputval)"
   ],
   "metadata": {
    "collapsed": false,
    "pycharm": {
     "name": "#%%\n"
    }
   }
  },
  {
   "cell_type": "code",
   "execution_count": 3,
   "outputs": [],
   "source": [
    "# Testing an integer"
   ],
   "metadata": {
    "collapsed": false,
    "pycharm": {
     "name": "#%%\n"
    }
   }
  },
  {
   "cell_type": "code",
   "execution_count": 4,
   "outputs": [
    {
     "name": "stdout",
     "output_type": "stream",
     "text": [
      "Original variable values:\n",
      "Variable object reference: 2413197224848\n",
      "Variable value           : 20\n",
      "\n",
      "Info before value were 'mutated'\n",
      "Variable object reference: 2413197224848\n",
      "Variable value           : 20\n",
      "\n",
      "Info after value were 'mutated'\n",
      "Variable object reference: 2413197224880\n",
      "Variable value           : 21\n",
      "\n"
     ]
    }
   ],
   "source": [
    "my_int = 20\n",
    "\n",
    "print(\"Original variable values:\")\n",
    "print_var_info(my_int)\n",
    "change_something(my_int)"
   ],
   "metadata": {
    "collapsed": false,
    "pycharm": {
     "name": "#%%\n"
    }
   }
  },
  {
   "cell_type": "code",
   "execution_count": 4,
   "outputs": [],
   "source": [],
   "metadata": {
    "collapsed": false,
    "pycharm": {
     "name": "#%%\n"
    }
   }
  },
  {
   "cell_type": "code",
   "execution_count": 4,
   "outputs": [],
   "source": [],
   "metadata": {
    "collapsed": false,
    "pycharm": {
     "name": "#%%\n"
    }
   }
  }
 ],
 "metadata": {
  "kernelspec": {
   "display_name": "Python 3",
   "language": "python",
   "name": "python3"
  },
  "language_info": {
   "codemirror_mode": {
    "name": "ipython",
    "version": 2
   },
   "file_extension": ".py",
   "mimetype": "text/x-python",
   "name": "python",
   "nbconvert_exporter": "python",
   "pygments_lexer": "ipython2",
   "version": "2.7.6"
  }
 },
 "nbformat": 4,
 "nbformat_minor": 0
}