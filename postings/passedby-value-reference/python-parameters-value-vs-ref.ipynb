{
 "cells": [
  {
   "cell_type": "markdown",
   "metadata": {
    "collapsed": true,
    "pycharm": {
     "name": "#%% md\n"
    }
   },
   "source": [
    "## Python - Parameters passes by reference or value?\n",
    "\n",
    "\n",
    "#### Lets define some helper functions.\n",
    "Here we define some helper functions that displays some information about a variable as well as function to change the value of a variable."
   ]
  },
  {
   "cell_type": "code",
   "execution_count": 9,
   "outputs": [],
   "source": [
    "def print_var_info(var) -> None:\n",
    "    \"\"\"Helper to print the variable object reference and value\"\"\"\n",
    "    print(f\"Variable object reference: {id(var)}\")\n",
    "    print(f\"Variable value           : {var}\\n\")\n",
    "\n",
    "\n",
    "def change_int(inputval) -> None:\n",
    "    \"\"\"Can we mutate inputval without passing it back via return?\"\"\"\n",
    "    print(\"Info before value were 'mutated'\")\n",
    "    print_var_info(inputval)\n",
    "    inputval += 66\n",
    "\n",
    "    print(\"Info after value were 'mutated'\")\n",
    "    print_var_info(inputval)"
   ],
   "metadata": {
    "collapsed": false,
    "pycharm": {
     "name": "#%%\n"
    }
   }
  },
  {
   "cell_type": "markdown",
   "source": [
    "### Testing an integer"
   ],
   "metadata": {
    "collapsed": false,
    "pycharm": {
     "name": "#%% md\n"
    }
   }
  },
  {
   "cell_type": "code",
   "execution_count": 10,
   "outputs": [
    {
     "name": "stdout",
     "output_type": "stream",
     "text": [
      "Original variable values:\n",
      "Variable object reference: 2413197224848\n",
      "Variable value           : 20\n",
      "\n",
      "Info before value were 'mutated'\n",
      "Variable object reference: 2413197224848\n",
      "Variable value           : 20\n",
      "\n",
      "Info after value were 'mutated'\n",
      "Variable object reference: 2413197415440\n",
      "Variable value           : 86\n",
      "\n",
      "Variable object reference: 2413197224848\n",
      "Variable value           : 20\n",
      "\n"
     ]
    }
   ],
   "source": [
    "my_int = 20\n",
    "\n",
    "print(\"Original variable values:\")\n",
    "print_var_info(my_int)\n",
    "change_int(my_int)\n",
    "print_var_info(my_int)"
   ],
   "metadata": {
    "collapsed": false,
    "pycharm": {
     "name": "#%%\n"
    }
   }
  },
  {
   "cell_type": "markdown",
   "source": [
    "We can clearly see that the value of the integer `my_int` was not mutated by the function. Why is this?\n",
    "Lets have a look at an array:\n",
    "\n",
    "\n",
    "## Testing and array"
   ],
   "metadata": {
    "collapsed": false,
    "pycharm": {
     "name": "#%% md\n"
    }
   }
  },
  {
   "cell_type": "code",
   "execution_count": 11,
   "outputs": [
    {
     "name": "stdout",
     "output_type": "stream",
     "text": [
      "Original variable values:\n",
      "Variable object reference: 2413312307776\n",
      "Variable value           : [1, 2, 3]\n",
      "\n",
      "Info before value were 'mutated' inside the function.\n",
      "Variable object reference: 2413312307776\n",
      "Variable value           : [1, 2, 3]\n",
      "\n",
      "Info after value were 'mutated' inside the function.\n",
      "Variable object reference: 2413312307776\n",
      "Variable value           : [1, 2, 3, 'I am new']\n",
      "\n",
      "Variable object reference: 2413312307776\n",
      "Variable value           : [1, 2, 3, 'I am new']\n",
      "\n"
     ]
    }
   ],
   "source": [
    "def change_array(inptut_array) -> None:\n",
    "    \"\"\"Can we mutate inputval without passing it back via return?\"\"\"\n",
    "    print(\"Info before value were 'mutated' inside the function.\")\n",
    "    print_var_info(inptut_array)\n",
    "    inptut_array.append(\"I am new\")\n",
    "    print(\"Info after value were 'mutated' inside the function.\")\n",
    "    print_var_info(inptut_array)\n",
    "\n",
    "\n",
    "my_array = [1, 2, 3]\n",
    "print(\"Original variable values:\")\n",
    "print_var_info(my_array)\n",
    "change_array(my_array)\n",
    "print_var_info(my_array)"
   ],
   "metadata": {
    "collapsed": false,
    "pycharm": {
     "name": "#%%\n"
    }
   }
  },
  {
   "cell_type": "markdown",
   "source": [
    "Here we can see that the value of `my_array` was changed.\n",
    "What is going on.\n",
    "\n",
    "## Immutable types, is just that. Immutable\n",
    "* IN the first case the integer value we create is immutable. When we change it in the function a new variable with the same name in the scope of the function is created and printed. When we get back to the main program the pointer is still pointing to the old value. So nothing has changed. Because the `int' type is immutable its value cannot be changed.\n",
    "\n",
    "* In the second case the `list` type is mutable. So when we add an element no new copy is made. The list is mutable, it is changed, and it points to the same object within the scope of the function as well as outside. It is the same object.\n",
    "\n",
    "## Summary\n",
    "Carefull!! Only change values of mutable types in a function call if you are not returning values. This might be bad programming practice. I generally only mutate one or two main objects that I pass around in my programs. Your usecase might differ.\n",
    "\n",
    "## A hint\n",
    "In the integer reasigment we said:\n",
    "```ptyhon\n",
    "    new_int += 1\n",
    "```\n",
    "\n",
    "rememeber what is actualy say is:\n",
    "\n",
    "```python\n",
    "    new_int = new_int + 1\n",
    "```\n",
    "\n",
    "In words we actualy asked the interpreter to - Create a new integer(with new object id), based on the value of another integer(with another id) and add one to the value.\n"
   ],
   "metadata": {
    "collapsed": false,
    "pycharm": {
     "name": "#%% md\n"
    }
   }
  }
 ],
 "metadata": {
  "kernelspec": {
   "display_name": "Python 3",
   "language": "python",
   "name": "python3"
  },
  "language_info": {
   "codemirror_mode": {
    "name": "ipython",
    "version": 2
   },
   "file_extension": ".py",
   "mimetype": "text/x-python",
   "name": "python",
   "nbconvert_exporter": "python",
   "pygments_lexer": "ipython2",
   "version": "2.7.6"
  }
 },
 "nbformat": 4,
 "nbformat_minor": 0
}